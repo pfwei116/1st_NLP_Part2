{
 "cells": [
  {
   "cell_type": "code",
   "execution_count": 1,
   "metadata": {},
   "outputs": [
    {
     "name": "stdout",
     "output_type": "stream",
     "text": [
      "time: 0 ns\n"
     ]
    }
   ],
   "source": [
    "%load_ext autotime"
   ]
  },
  {
   "cell_type": "code",
   "execution_count": 2,
   "metadata": {},
   "outputs": [
    {
     "name": "stdout",
     "output_type": "stream",
     "text": [
      "time: 4.69 s\n"
     ]
    }
   ],
   "source": [
    "import torch\n",
    "import torch.nn as nn\n",
    "import torchvision.models as models\n",
    "import torch.nn.functional as F\n",
    "import numpy as np"
   ]
  },
  {
   "cell_type": "markdown",
   "metadata": {},
   "source": [
    "## 依照指示取出模型特定層的資訊"
   ]
  },
  {
   "cell_type": "code",
   "execution_count": 3,
   "metadata": {},
   "outputs": [
    {
     "name": "stdout",
     "output_type": "stream",
     "text": [
      "time: 47 ms\n"
     ]
    }
   ],
   "source": [
    "# Define model\n",
    "class TheModelClass(nn.Module):\n",
    "    def __init__(self):\n",
    "        super(TheModelClass, self).__init__()\n",
    "        self.conv1 = nn.Conv2d(3, 6, 5)\n",
    "        self.pool = nn.MaxPool2d(2, 2)\n",
    "        self.conv2 = nn.Conv2d(6, 16, 5)\n",
    "        self.fc1 = nn.Linear(16* 5 * 5, 120)\n",
    "        self.fc2 = nn.Linear(120, 84)\n",
    "        self.fc3 = nn.Linear(84, 10)\n",
    "\n",
    "    def forward(self, x):\n",
    "        x = self.pool(F.relu(self.conv1(x)))\n",
    "        x = self.pool(F.relu(self.conv2(x)))\n",
    "        x = x.view(-1, 16 * 5 * 5)\n",
    "        x = F.relu(self.fc1(x))\n",
    "        x = F.relu(self.fc2(x))\n",
    "        x = self.fc3(x)\n",
    "        return x\n",
    "\n",
    "# Initialize model\n",
    "model = TheModelClass()\n"
   ]
  },
  {
   "cell_type": "markdown",
   "metadata": {},
   "source": [
    "### 取出 self.pool層兩次的輸出，包含：\n",
    "* x = self.pool(F.relu(self.conv1(x)))\n",
    "* x = self.pool(F.relu(self.conv2(x)))"
   ]
  },
  {
   "cell_type": "code",
   "execution_count": 7,
   "metadata": {},
   "outputs": [
    {
     "data": {
      "text/plain": [
       "MaxPool2d(kernel_size=2, stride=2, padding=0, dilation=1, ceil_mode=False)"
      ]
     },
     "execution_count": 7,
     "metadata": {},
     "output_type": "execute_result"
    },
    {
     "name": "stdout",
     "output_type": "stream",
     "text": [
      "time: 0 ns\n"
     ]
    }
   ],
   "source": [
    "model.pool.regi"
   ]
  },
  {
   "cell_type": "code",
   "execution_count": 8,
   "metadata": {},
   "outputs": [
    {
     "data": {
      "text/plain": [
       "<torch.utils.hooks.RemovableHandle at 0x1f344efc640>"
      ]
     },
     "execution_count": 8,
     "metadata": {},
     "output_type": "execute_result"
    },
    {
     "name": "stdout",
     "output_type": "stream",
     "text": [
      "time: 0 ns\n"
     ]
    }
   ],
   "source": [
    "outputs= []\n",
    "def layer1_hook(module, input_, output):\n",
    "    outputs.append(output)\n",
    "    \n",
    "model.pool.register_forward_hook(layer1_hook)"
   ]
  },
  {
   "cell_type": "code",
   "execution_count": 9,
   "metadata": {},
   "outputs": [
    {
     "name": "stdout",
     "output_type": "stream",
     "text": [
      "time: 47 ms\n"
     ]
    }
   ],
   "source": [
    "input_ = torch.randn(1, 3, 32, 32)\n",
    "output = model(input_)"
   ]
  },
  {
   "cell_type": "code",
   "execution_count": 10,
   "metadata": {
    "collapsed": true,
    "jupyter": {
     "outputs_hidden": true
    }
   },
   "outputs": [
    {
     "data": {
      "text/plain": [
       "[tensor([[[[0.1291, 0.7673, 0.2730,  ..., 0.5543, 0.6246, 0.9026],\n",
       "           [0.4778, 0.7482, 0.8064,  ..., 0.2080, 0.5661, 1.0232],\n",
       "           [0.0000, 1.0197, 0.7304,  ..., 0.7775, 0.0479, 1.0634],\n",
       "           ...,\n",
       "           [0.3543, 0.6955, 0.6641,  ..., 0.1598, 1.0707, 0.8102],\n",
       "           [0.8117, 0.6378, 0.6097,  ..., 0.8016, 0.3826, 0.6265],\n",
       "           [0.0000, 0.0000, 0.2653,  ..., 0.4369, 1.3566, 0.4295]],\n",
       " \n",
       "          [[0.0000, 0.6799, 0.4552,  ..., 0.4724, 1.0408, 0.4997],\n",
       "           [0.5225, 0.2341, 0.2099,  ..., 0.7007, 0.5945, 0.4289],\n",
       "           [0.3145, 0.4256, 0.7829,  ..., 0.5420, 0.2392, 0.0000],\n",
       "           ...,\n",
       "           [0.5516, 1.1926, 0.0414,  ..., 0.5872, 0.1823, 1.0445],\n",
       "           [0.5672, 0.2747, 1.3825,  ..., 1.5253, 0.0000, 0.2044],\n",
       "           [1.1402, 0.0779, 0.0000,  ..., 0.5541, 0.6493, 0.5141]],\n",
       " \n",
       "          [[0.1573, 0.5502, 0.5729,  ..., 0.6183, 0.3857, 1.5685],\n",
       "           [1.4748, 0.5035, 0.8282,  ..., 0.0000, 2.1505, 0.5575],\n",
       "           [0.8099, 1.1016, 0.3773,  ..., 1.0985, 0.6742, 0.4912],\n",
       "           ...,\n",
       "           [1.0062, 1.4058, 0.2406,  ..., 1.0354, 0.9707, 0.8963],\n",
       "           [0.8698, 0.7818, 1.4524,  ..., 1.2987, 0.7010, 1.1237],\n",
       "           [1.5622, 0.7912, 1.3818,  ..., 0.6439, 0.9022, 0.7172]],\n",
       " \n",
       "          [[0.3008, 0.3785, 0.5137,  ..., 0.6568, 0.7443, 0.9974],\n",
       "           [0.8203, 0.1451, 0.6345,  ..., 0.3017, 0.6307, 0.1769],\n",
       "           [0.4093, 0.8112, 0.6398,  ..., 0.8562, 1.0219, 0.4807],\n",
       "           ...,\n",
       "           [0.2037, 0.1317, 0.8297,  ..., 0.4926, 0.6178, 0.5241],\n",
       "           [0.2598, 0.3490, 0.6289,  ..., 0.4653, 1.2445, 0.7766],\n",
       "           [0.5429, 0.2503, 0.2023,  ..., 0.3593, 0.1403, 0.6990]],\n",
       " \n",
       "          [[0.9579, 0.2767, 1.0602,  ..., 0.2759, 1.4964, 0.4987],\n",
       "           [0.9143, 1.1487, 0.3290,  ..., 0.0000, 1.1252, 0.2876],\n",
       "           [0.6819, 0.6299, 0.6056,  ..., 0.7049, 0.1228, 1.0230],\n",
       "           ...,\n",
       "           [1.0329, 0.0422, 1.1897,  ..., 0.0920, 1.1065, 0.6128],\n",
       "           [0.2117, 0.9048, 0.3640,  ..., 0.6193, 1.0320, 0.8601],\n",
       "           [0.5075, 0.4385, 0.4196,  ..., 0.0000, 0.6041, 0.9958]],\n",
       " \n",
       "          [[0.8331, 0.6275, 0.1813,  ..., 0.8518, 0.6108, 0.7488],\n",
       "           [0.8528, 0.1720, 0.8364,  ..., 1.1172, 0.2019, 0.8799],\n",
       "           [0.6368, 1.1100, 1.3384,  ..., 0.8052, 0.0000, 1.1176],\n",
       "           ...,\n",
       "           [0.2274, 0.7830, 0.7968,  ..., 0.9467, 0.1669, 0.0656],\n",
       "           [0.3405, 0.9643, 0.1793,  ..., 0.5706, 1.4794, 0.1885],\n",
       "           [1.1846, 1.2189, 1.0800,  ..., 0.0000, 0.4799, 0.0000]]]],\n",
       "        grad_fn=<MaxPool2DWithIndicesBackward>),\n",
       " tensor([[[[6.5586e-01, 5.5653e-01, 3.2449e-01, 2.1004e-01, 7.7366e-01],\n",
       "           [4.1620e-01, 4.7618e-01, 3.0819e-01, 3.6092e-01, 3.4887e-01],\n",
       "           [9.2456e-01, 6.3306e-01, 4.4348e-01, 4.5542e-01, 3.7589e-01],\n",
       "           [5.8031e-01, 5.9623e-01, 4.1444e-01, 6.0110e-01, 4.8110e-01],\n",
       "           [6.3317e-01, 4.4690e-01, 6.7576e-01, 2.7018e-01, 4.7377e-01]],\n",
       " \n",
       "          [[3.6941e-01, 2.4230e-01, 2.3060e-01, 4.3918e-01, 3.5423e-01],\n",
       "           [6.0628e-01, 3.3990e-01, 2.3550e-01, 4.9407e-01, 3.0851e-01],\n",
       "           [2.8901e-01, 5.7889e-01, 3.9290e-01, 3.0991e-01, 4.1830e-01],\n",
       "           [5.9897e-01, 1.9984e-01, 3.6004e-01, 5.3971e-01, 3.6067e-01],\n",
       "           [8.3718e-01, 3.3403e-01, 7.6718e-01, 4.9603e-01, 3.4327e-01]],\n",
       " \n",
       "          [[8.3250e-01, 8.1998e-01, 5.8887e-01, 7.6319e-01, 7.7050e-01],\n",
       "           [7.5752e-01, 7.9954e-01, 1.0074e+00, 8.5045e-01, 6.7863e-01],\n",
       "           [6.3745e-01, 1.0101e+00, 5.6458e-01, 7.3207e-01, 5.4911e-01],\n",
       "           [9.8259e-01, 5.5057e-01, 6.5641e-01, 6.4982e-01, 7.7175e-01],\n",
       "           [7.7120e-01, 7.3868e-01, 8.5603e-01, 9.6409e-01, 8.2895e-01]],\n",
       " \n",
       "          [[6.8952e-01, 6.5181e-01, 5.1212e-01, 4.9813e-01, 4.6386e-01],\n",
       "           [4.1003e-01, 5.5461e-01, 2.1107e-01, 2.0954e-01, 5.6794e-01],\n",
       "           [3.9561e-01, 3.1706e-01, 4.5580e-01, 5.3558e-01, 3.4264e-01],\n",
       "           [3.7603e-01, 3.6612e-01, 5.0249e-01, 3.6427e-01, 5.9055e-01],\n",
       "           [2.6611e-01, 7.1514e-01, 3.3791e-01, 6.5415e-01, 5.6544e-01]],\n",
       " \n",
       "          [[5.6338e-01, 1.6208e-01, 3.4420e-01, 4.5083e-01, 5.1028e-01],\n",
       "           [1.5309e-01, 6.6718e-01, 3.9247e-01, 6.5156e-01, 2.9343e-01],\n",
       "           [7.0879e-01, 5.2851e-01, 3.2841e-01, 2.3413e-01, 4.6078e-01],\n",
       "           [7.2372e-01, 5.5381e-01, 7.5439e-01, 4.4285e-01, 5.1053e-01],\n",
       "           [7.4323e-01, 2.6435e-01, 4.1281e-01, 1.7668e-01, 4.8679e-01]],\n",
       " \n",
       "          [[0.0000e+00, 0.0000e+00, 0.0000e+00, 0.0000e+00, 0.0000e+00],\n",
       "           [0.0000e+00, 0.0000e+00, 0.0000e+00, 0.0000e+00, 0.0000e+00],\n",
       "           [7.9120e-02, 0.0000e+00, 0.0000e+00, 0.0000e+00, 0.0000e+00],\n",
       "           [0.0000e+00, 0.0000e+00, 0.0000e+00, 0.0000e+00, 9.1624e-02],\n",
       "           [0.0000e+00, 2.7075e-01, 0.0000e+00, 0.0000e+00, 0.0000e+00]],\n",
       " \n",
       "          [[5.2704e-01, 5.0023e-01, 4.9793e-01, 2.9919e-01, 1.4697e-01],\n",
       "           [2.0301e-01, 1.7180e-01, 1.6412e-01, 2.5171e-01, 1.1987e-01],\n",
       "           [3.7807e-01, 5.3611e-01, 3.8110e-01, 4.5476e-01, 1.1764e-01],\n",
       "           [5.2951e-01, 5.2637e-01, 7.7425e-01, 3.9867e-01, 3.8545e-01],\n",
       "           [6.5976e-01, 2.5880e-01, 2.3537e-01, 4.3520e-01, 4.2148e-01]],\n",
       " \n",
       "          [[1.3463e-02, 3.7484e-01, 3.5142e-01, 1.3405e-01, 4.9498e-01],\n",
       "           [2.0188e-01, 1.2941e-01, 3.5231e-01, 3.8202e-01, 0.0000e+00],\n",
       "           [1.6903e-01, 1.8596e-01, 2.1816e-01, 1.3569e-01, 1.5116e-01],\n",
       "           [2.0849e-01, 2.9119e-01, 1.7368e-01, 1.2951e-01, 1.8946e-01],\n",
       "           [2.7539e-02, 3.2777e-02, 1.6724e-01, 3.6610e-01, 2.4562e-01]],\n",
       " \n",
       "          [[1.0238e+00, 7.8767e-01, 1.0048e+00, 9.0786e-01, 9.4046e-01],\n",
       "           [8.7057e-01, 6.7075e-01, 8.8328e-01, 9.4770e-01, 9.8965e-01],\n",
       "           [6.1120e-01, 1.3421e+00, 1.1114e+00, 1.0236e+00, 4.8715e-01],\n",
       "           [1.2263e+00, 1.1195e+00, 1.0379e+00, 1.0131e+00, 9.7251e-01],\n",
       "           [1.0818e+00, 1.0799e+00, 1.2314e+00, 1.1387e+00, 9.5771e-01]],\n",
       " \n",
       "          [[6.7098e-01, 9.0076e-01, 5.1872e-01, 6.8899e-01, 8.0172e-01],\n",
       "           [5.8152e-01, 5.3810e-01, 5.6254e-01, 8.6314e-01, 9.2489e-01],\n",
       "           [5.3252e-01, 8.0287e-01, 7.3034e-01, 6.5654e-01, 8.5232e-01],\n",
       "           [7.3540e-01, 9.4064e-01, 6.5452e-01, 9.1651e-01, 6.8020e-01],\n",
       "           [7.1750e-01, 7.6513e-01, 6.3073e-01, 8.4214e-01, 6.9275e-01]],\n",
       " \n",
       "          [[6.2309e-01, 7.2133e-01, 8.2613e-01, 8.8091e-01, 5.4493e-01],\n",
       "           [6.0270e-01, 5.8249e-01, 5.1101e-01, 5.8105e-01, 4.1173e-01],\n",
       "           [1.0451e+00, 5.8320e-01, 6.9369e-01, 7.8372e-01, 7.1897e-01],\n",
       "           [7.9729e-01, 7.6850e-01, 7.6943e-01, 6.4782e-01, 8.7171e-01],\n",
       "           [4.9391e-01, 7.5546e-01, 6.0944e-01, 8.6395e-01, 9.0621e-01]],\n",
       " \n",
       "          [[5.9966e-02, 1.1422e-01, 0.0000e+00, 2.4122e-01, 0.0000e+00],\n",
       "           [0.0000e+00, 0.0000e+00, 0.0000e+00, 6.6374e-02, 0.0000e+00],\n",
       "           [3.4898e-03, 0.0000e+00, 0.0000e+00, 0.0000e+00, 6.3949e-04],\n",
       "           [0.0000e+00, 2.7303e-01, 0.0000e+00, 1.4378e-01, 0.0000e+00],\n",
       "           [4.9428e-02, 3.7276e-01, 0.0000e+00, 1.4003e-01, 1.1970e-01]],\n",
       " \n",
       "          [[1.5361e-01, 1.9367e-01, 9.0693e-02, 2.7553e-01, 2.8418e-01],\n",
       "           [0.0000e+00, 6.8832e-02, 4.2813e-01, 1.0253e-01, 3.7688e-02],\n",
       "           [2.5710e-01, 1.0587e-02, 1.6624e-01, 1.1386e-01, 3.2967e-01],\n",
       "           [2.0497e-01, 2.7834e-01, 3.4254e-01, 2.1593e-01, 3.0389e-01],\n",
       "           [2.5928e-01, 2.2063e-01, 2.9580e-01, 0.0000e+00, 6.9232e-02]],\n",
       " \n",
       "          [[0.0000e+00, 0.0000e+00, 0.0000e+00, 6.0278e-02, 0.0000e+00],\n",
       "           [0.0000e+00, 0.0000e+00, 0.0000e+00, 0.0000e+00, 0.0000e+00],\n",
       "           [0.0000e+00, 0.0000e+00, 0.0000e+00, 5.2268e-02, 0.0000e+00],\n",
       "           [1.8830e-02, 0.0000e+00, 0.0000e+00, 0.0000e+00, 0.0000e+00],\n",
       "           [0.0000e+00, 0.0000e+00, 0.0000e+00, 0.0000e+00, 0.0000e+00]],\n",
       " \n",
       "          [[0.0000e+00, 4.5382e-01, 0.0000e+00, 0.0000e+00, 5.4679e-02],\n",
       "           [0.0000e+00, 2.1420e-01, 1.6321e-01, 3.1565e-02, 0.0000e+00],\n",
       "           [2.8574e-01, 3.5171e-02, 2.7202e-01, 2.2553e-02, 1.2793e-01],\n",
       "           [2.3564e-01, 1.0121e-01, 2.3687e-01, 8.1746e-02, 0.0000e+00],\n",
       "           [2.0183e-01, 9.3550e-02, 0.0000e+00, 0.0000e+00, 0.0000e+00]],\n",
       " \n",
       "          [[1.9426e-01, 2.8675e-01, 2.1887e-01, 5.7057e-01, 2.7962e-01],\n",
       "           [2.7658e-01, 2.0964e-01, 4.3929e-01, 8.5028e-02, 1.6770e-01],\n",
       "           [3.0309e-01, 8.1884e-02, 6.4510e-01, 4.6647e-01, 3.3945e-01],\n",
       "           [9.0733e-02, 5.3696e-01, 5.0761e-01, 3.0920e-01, 3.1983e-01],\n",
       "           [2.3894e-01, 3.6846e-01, 6.3209e-02, 1.5101e-01, 1.7810e-01]]]],\n",
       "        grad_fn=<MaxPool2DWithIndicesBackward>)]"
      ]
     },
     "execution_count": 10,
     "metadata": {},
     "output_type": "execute_result"
    },
    {
     "name": "stdout",
     "output_type": "stream",
     "text": [
      "time: 47 ms\n"
     ]
    }
   ],
   "source": [
    "outputs"
   ]
  },
  {
   "cell_type": "code",
   "execution_count": 11,
   "metadata": {},
   "outputs": [
    {
     "name": "stdout",
     "output_type": "stream",
     "text": [
      "torch.Size([1, 6, 14, 14])\n",
      "torch.Size([1, 16, 5, 5])\n",
      "time: 0 ns\n"
     ]
    }
   ],
   "source": [
    "# 與解答相符\n",
    "print(outputs[0].shape)\n",
    "print(outputs[1].shape)"
   ]
  },
  {
   "cell_type": "code",
   "execution_count": 67,
   "metadata": {},
   "outputs": [
    {
     "name": "stdout",
     "output_type": "stream",
     "text": [
      "torch.Size([1, 6, 14, 14])\n",
      "torch.Size([1, 16, 5, 5])\n"
     ]
    }
   ],
   "source": [
    "print(outputs[0].shape)\n",
    "print(outputs[1].shape)"
   ]
  },
  {
   "cell_type": "markdown",
   "metadata": {},
   "source": [
    "## 加入自定義 initialization fuction"
   ]
  },
  {
   "cell_type": "markdown",
   "metadata": {},
   "source": [
    "#### 對所有Conv2D層使用自定義initialization function\n",
    "* weight : nn.init.kaiming_normal_\n",
    "* bias : 全部輸入1"
   ]
  },
  {
   "cell_type": "code",
   "execution_count": 12,
   "metadata": {},
   "outputs": [
    {
     "data": {
      "text/plain": [
       "TheModelClass(\n",
       "  (conv1): Conv2d(3, 6, kernel_size=(5, 5), stride=(1, 1))\n",
       "  (pool): MaxPool2d(kernel_size=2, stride=2, padding=0, dilation=1, ceil_mode=False)\n",
       "  (conv2): Conv2d(6, 16, kernel_size=(5, 5), stride=(1, 1))\n",
       "  (fc1): Linear(in_features=400, out_features=120, bias=True)\n",
       "  (fc2): Linear(in_features=120, out_features=84, bias=True)\n",
       "  (fc3): Linear(in_features=84, out_features=10, bias=True)\n",
       ")"
      ]
     },
     "execution_count": 12,
     "metadata": {},
     "output_type": "execute_result"
    },
    {
     "name": "stdout",
     "output_type": "stream",
     "text": [
      "time: 0 ns\n"
     ]
    }
   ],
   "source": [
    "model"
   ]
  },
  {
   "cell_type": "code",
   "execution_count": 13,
   "metadata": {},
   "outputs": [
    {
     "data": {
      "text/plain": [
       "TheModelClass(\n",
       "  (conv1): Conv2d(3, 6, kernel_size=(5, 5), stride=(1, 1))\n",
       "  (pool): MaxPool2d(kernel_size=2, stride=2, padding=0, dilation=1, ceil_mode=False)\n",
       "  (conv2): Conv2d(6, 16, kernel_size=(5, 5), stride=(1, 1))\n",
       "  (fc1): Linear(in_features=400, out_features=120, bias=True)\n",
       "  (fc2): Linear(in_features=120, out_features=84, bias=True)\n",
       "  (fc3): Linear(in_features=84, out_features=10, bias=True)\n",
       ")"
      ]
     },
     "execution_count": 13,
     "metadata": {},
     "output_type": "execute_result"
    },
    {
     "name": "stdout",
     "output_type": "stream",
     "text": [
      "time: 16 ms\n"
     ]
    }
   ],
   "source": [
    "from torch.nn import init\n",
    "\n",
    "def weights_init(m):\n",
    "    #classname = m.__class__.__name__\n",
    "    if isinstance(m, nn.Conv2d):\n",
    "        #torch.nn.init.xavier_uniform_(m.weight)\n",
    "        nn.init.kaiming_normal_(m.weight.data,\n",
    "                                    a=0,\n",
    "                                    mode='fan_out',\n",
    "                                    nonlinearity='relu')\n",
    "        if m.bias is not None:\n",
    "            nn.init.ones_(m.bias)\n",
    "            \n",
    "model.apply(weights_init)"
   ]
  },
  {
   "cell_type": "code",
   "execution_count": 14,
   "metadata": {},
   "outputs": [
    {
     "name": "stdout",
     "output_type": "stream",
     "text": [
      "conv1.bias Parameter containing:\n",
      "tensor([1., 1., 1., 1., 1., 1.], requires_grad=True)\n",
      "\n",
      "\n",
      "conv2.bias Parameter containing:\n",
      "tensor([1., 1., 1., 1., 1., 1., 1., 1., 1., 1., 1., 1., 1., 1., 1., 1.],\n",
      "       requires_grad=True)\n",
      "\n",
      "\n",
      "time: 0 ns\n"
     ]
    }
   ],
   "source": [
    "for name, parameters in model.named_parameters():\n",
    "    if ('conv' in name) and ('bias' in name):\n",
    "        print(name, parameters)\n",
    "        print('\\n')"
   ]
  },
  {
   "cell_type": "code",
   "execution_count": 71,
   "metadata": {},
   "outputs": [
    {
     "data": {
      "text/plain": [
       "TheModelClass(\n",
       "  (conv1): Conv2d(3, 6, kernel_size=(5, 5), stride=(1, 1))\n",
       "  (pool): MaxPool2d(kernel_size=2, stride=2, padding=0, dilation=1, ceil_mode=False)\n",
       "  (conv2): Conv2d(6, 16, kernel_size=(5, 5), stride=(1, 1))\n",
       "  (fc1): Linear(in_features=400, out_features=120, bias=True)\n",
       "  (fc2): Linear(in_features=120, out_features=84, bias=True)\n",
       "  (fc3): Linear(in_features=84, out_features=10, bias=True)\n",
       ")"
      ]
     },
     "execution_count": 71,
     "metadata": {},
     "output_type": "execute_result"
    }
   ],
   "source": [
    "from torch.nn import init\n",
    "\n",
    "def weights_init(m):\n",
    "    #classname = m.__class__.__name__\n",
    "    if isinstance(m, nn.Conv2d):\n",
    "        #torch.nn.init.xavier_uniform_(m.weight)\n",
    "        nn.init.kaiming_normal_(m.weight.data,\n",
    "                                    a=0,\n",
    "                                    mode='fan_out',\n",
    "                                    nonlinearity='relu')\n",
    "        if m.bias is not None:\n",
    "            nn.init.ones_(m.bias)\n",
    "            \n",
    "model.apply(weights_init)"
   ]
  },
  {
   "cell_type": "markdown",
   "metadata": {},
   "source": [
    "#### 查看 conv層的bias是否皆為1"
   ]
  },
  {
   "cell_type": "code",
   "execution_count": 80,
   "metadata": {},
   "outputs": [
    {
     "name": "stdout",
     "output_type": "stream",
     "text": [
      "conv1.bias Parameter containing:\n",
      "tensor([1., 1., 1., 1., 1., 1.], requires_grad=True)\n",
      "\n",
      "\n",
      "conv2.bias Parameter containing:\n",
      "tensor([1., 1., 1., 1., 1., 1., 1., 1., 1., 1., 1., 1., 1., 1., 1., 1.],\n",
      "       requires_grad=True)\n",
      "\n",
      "\n"
     ]
    }
   ],
   "source": [
    "for name, parameters in model.named_parameters():\n",
    "    if ('conv' in name) and ('bias' in name):\n",
    "        print(name, parameters)\n",
    "        print('\\n')"
   ]
  },
  {
   "cell_type": "code",
   "execution_count": null,
   "metadata": {},
   "outputs": [],
   "source": []
  }
 ],
 "metadata": {
  "kernelspec": {
   "display_name": "Python 3",
   "language": "python",
   "name": "python3"
  },
  "language_info": {
   "codemirror_mode": {
    "name": "ipython",
    "version": 3
   },
   "file_extension": ".py",
   "mimetype": "text/x-python",
   "name": "python",
   "nbconvert_exporter": "python",
   "pygments_lexer": "ipython3",
   "version": "3.8.5"
  }
 },
 "nbformat": 4,
 "nbformat_minor": 4
}
