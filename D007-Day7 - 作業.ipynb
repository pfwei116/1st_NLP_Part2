{
 "cells": [
  {
   "cell_type": "code",
   "execution_count": 1,
   "metadata": {},
   "outputs": [
    {
     "name": "stdout",
     "output_type": "stream",
     "text": [
      "time: 0 ns\n"
     ]
    }
   ],
   "source": [
    "%load_ext autotime"
   ]
  },
  {
   "cell_type": "markdown",
   "metadata": {},
   "source": [
    "## 第一部分：了解 nn.Module的基本操作"
   ]
  },
  {
   "cell_type": "code",
   "execution_count": 2,
   "metadata": {},
   "outputs": [
    {
     "name": "stdout",
     "output_type": "stream",
     "text": [
      "time: 2.45 s\n"
     ]
    }
   ],
   "source": [
    "import torch\n",
    "import torch.nn as nn\n",
    "import torchvision.models as models\n",
    "import torch.nn.functional as F\n",
    "import numpy as np"
   ]
  },
  {
   "cell_type": "code",
   "execution_count": 3,
   "metadata": {},
   "outputs": [
    {
     "name": "stdout",
     "output_type": "stream",
     "text": [
      "time: 171 ms\n"
     ]
    }
   ],
   "source": [
    "model = models.resnet18()"
   ]
  },
  {
   "cell_type": "markdown",
   "metadata": {},
   "source": [
    "### 打印出 model底下所有 parameters 的 name 以及對應的 shape "
   ]
  },
  {
   "cell_type": "code",
   "execution_count": 6,
   "metadata": {
    "collapsed": true,
    "jupyter": {
     "outputs_hidden": true
    }
   },
   "outputs": [
    {
     "name": "stdout",
     "output_type": "stream",
     "text": [
      "conv1.weight :  torch.Size([64, 3, 7, 7])\n",
      "bn1.weight :  torch.Size([64])\n",
      "bn1.bias :  torch.Size([64])\n",
      "layer1.0.conv1.weight :  torch.Size([64, 64, 3, 3])\n",
      "layer1.0.bn1.weight :  torch.Size([64])\n",
      "layer1.0.bn1.bias :  torch.Size([64])\n",
      "layer1.0.conv2.weight :  torch.Size([64, 64, 3, 3])\n",
      "layer1.0.bn2.weight :  torch.Size([64])\n",
      "layer1.0.bn2.bias :  torch.Size([64])\n",
      "layer1.1.conv1.weight :  torch.Size([64, 64, 3, 3])\n",
      "layer1.1.bn1.weight :  torch.Size([64])\n",
      "layer1.1.bn1.bias :  torch.Size([64])\n",
      "layer1.1.conv2.weight :  torch.Size([64, 64, 3, 3])\n",
      "layer1.1.bn2.weight :  torch.Size([64])\n",
      "layer1.1.bn2.bias :  torch.Size([64])\n",
      "layer2.0.conv1.weight :  torch.Size([128, 64, 3, 3])\n",
      "layer2.0.bn1.weight :  torch.Size([128])\n",
      "layer2.0.bn1.bias :  torch.Size([128])\n",
      "layer2.0.conv2.weight :  torch.Size([128, 128, 3, 3])\n",
      "layer2.0.bn2.weight :  torch.Size([128])\n",
      "layer2.0.bn2.bias :  torch.Size([128])\n",
      "layer2.0.downsample.0.weight :  torch.Size([128, 64, 1, 1])\n",
      "layer2.0.downsample.1.weight :  torch.Size([128])\n",
      "layer2.0.downsample.1.bias :  torch.Size([128])\n",
      "layer2.1.conv1.weight :  torch.Size([128, 128, 3, 3])\n",
      "layer2.1.bn1.weight :  torch.Size([128])\n",
      "layer2.1.bn1.bias :  torch.Size([128])\n",
      "layer2.1.conv2.weight :  torch.Size([128, 128, 3, 3])\n",
      "layer2.1.bn2.weight :  torch.Size([128])\n",
      "layer2.1.bn2.bias :  torch.Size([128])\n",
      "layer3.0.conv1.weight :  torch.Size([256, 128, 3, 3])\n",
      "layer3.0.bn1.weight :  torch.Size([256])\n",
      "layer3.0.bn1.bias :  torch.Size([256])\n",
      "layer3.0.conv2.weight :  torch.Size([256, 256, 3, 3])\n",
      "layer3.0.bn2.weight :  torch.Size([256])\n",
      "layer3.0.bn2.bias :  torch.Size([256])\n",
      "layer3.0.downsample.0.weight :  torch.Size([256, 128, 1, 1])\n",
      "layer3.0.downsample.1.weight :  torch.Size([256])\n",
      "layer3.0.downsample.1.bias :  torch.Size([256])\n",
      "layer3.1.conv1.weight :  torch.Size([256, 256, 3, 3])\n",
      "layer3.1.bn1.weight :  torch.Size([256])\n",
      "layer3.1.bn1.bias :  torch.Size([256])\n",
      "layer3.1.conv2.weight :  torch.Size([256, 256, 3, 3])\n",
      "layer3.1.bn2.weight :  torch.Size([256])\n",
      "layer3.1.bn2.bias :  torch.Size([256])\n",
      "layer4.0.conv1.weight :  torch.Size([512, 256, 3, 3])\n",
      "layer4.0.bn1.weight :  torch.Size([512])\n",
      "layer4.0.bn1.bias :  torch.Size([512])\n",
      "layer4.0.conv2.weight :  torch.Size([512, 512, 3, 3])\n",
      "layer4.0.bn2.weight :  torch.Size([512])\n",
      "layer4.0.bn2.bias :  torch.Size([512])\n",
      "layer4.0.downsample.0.weight :  torch.Size([512, 256, 1, 1])\n",
      "layer4.0.downsample.1.weight :  torch.Size([512])\n",
      "layer4.0.downsample.1.bias :  torch.Size([512])\n",
      "layer4.1.conv1.weight :  torch.Size([512, 512, 3, 3])\n",
      "layer4.1.bn1.weight :  torch.Size([512])\n",
      "layer4.1.bn1.bias :  torch.Size([512])\n",
      "layer4.1.conv2.weight :  torch.Size([512, 512, 3, 3])\n",
      "layer4.1.bn2.weight :  torch.Size([512])\n",
      "layer4.1.bn2.bias :  torch.Size([512])\n",
      "fc.weight :  torch.Size([1000, 512])\n",
      "fc.bias :  torch.Size([1000])\n",
      "time: 0 ns\n"
     ]
    }
   ],
   "source": [
    "for name, param in model.named_parameters():\n",
    "    print(name, ': ', param.shape)"
   ]
  },
  {
   "cell_type": "markdown",
   "metadata": {},
   "source": [
    "### 為了使 forward propagation 加速 並降低 memory 使用量，請將所有 parameters 的requires_grad 關閉，關閉之後執行  forward propagation"
   ]
  },
  {
   "cell_type": "code",
   "execution_count": 7,
   "metadata": {},
   "outputs": [
    {
     "name": "stdout",
     "output_type": "stream",
     "text": [
      "time: 0 ns\n"
     ]
    }
   ],
   "source": [
    "input_ = torch.randn(1, 3, 128, 128)"
   ]
  },
  {
   "cell_type": "code",
   "execution_count": 9,
   "metadata": {},
   "outputs": [
    {
     "name": "stdout",
     "output_type": "stream",
     "text": [
      "time: 0 ns\n"
     ]
    }
   ],
   "source": [
    "for param in model.parameters():\n",
    "    param.requires_grad = False"
   ]
  },
  {
   "cell_type": "code",
   "execution_count": 10,
   "metadata": {},
   "outputs": [
    {
     "name": "stdout",
     "output_type": "stream",
     "text": [
      "torch.Size([1, 1000])\n",
      "time: 94 ms\n"
     ]
    }
   ],
   "source": [
    "output = model(input_)\n",
    "print(output.shape)"
   ]
  },
  {
   "cell_type": "markdown",
   "metadata": {},
   "source": [
    "## 第二部分：依照指令，以較簡潔的方式搭建出模型"
   ]
  },
  {
   "cell_type": "markdown",
   "metadata": {},
   "source": [
    "* input_shape = torch.Size([10, 12])\n",
    "* 先經過一層 nn.Linear(12, 10)\n",
    "* 經過10層 nn.Linear(10, 10)\n",
    "* 最後經過 nn.Linear(10, 3) 輸出\n",
    "* 每一個 nn.Linear過完後要先經過 nn.BatchNorm1d 才能到下一層，輸出層不用\n"
   ]
  },
  {
   "cell_type": "code",
   "execution_count": 14,
   "metadata": {},
   "outputs": [
    {
     "name": "stdout",
     "output_type": "stream",
     "text": [
      "time: 0 ns\n"
     ]
    }
   ],
   "source": [
    "input_ = torch.randn(10,12)\n",
    "## 示範\n",
    "Linear = \n",
    "Linear2 = nn.Linear(10,10)\n",
    "Linear3 = nn.Linear(10,3)\n",
    "BN = nn.BatchNorm1d(10)\n"
   ]
  },
  {
   "cell_type": "code",
   "execution_count": 17,
   "metadata": {},
   "outputs": [
    {
     "name": "stdout",
     "output_type": "stream",
     "text": [
      "time: 0 ns\n"
     ]
    }
   ],
   "source": [
    "class Model(nn.Module):\n",
    "    def __init__(self):\n",
    "        super(Model, self).__init__()\n",
    "        self.layer = torch.nn.Sequential()\n",
    "        \n",
    "        self.layer.add_module('Linear-1', nn.Linear(12,10))\n",
    "        self.layer.add_module('BatchNorm1d-1', nn.BatchNorm1d(10))\n",
    "        for i in range(2,12):\n",
    "            self.layer.add_module(f'Linear-{i}', nn.Linear(10,10))\n",
    "            self.layer.add_module(f'BatchNorm1d-{i}', nn.BatchNorm1d(10))\n",
    "\n",
    "        self.layer.add_module(f'Linear-{i+1}',nn.Linear(10,3))\n",
    "\n",
    "    def forward(self, x):\n",
    "        for model in self.layer:\n",
    "            x = model(x)\n",
    "        return x"
   ]
  },
  {
   "cell_type": "code",
   "execution_count": 18,
   "metadata": {},
   "outputs": [
    {
     "name": "stdout",
     "output_type": "stream",
     "text": [
      "time: 0 ns\n"
     ]
    }
   ],
   "source": [
    "model = Model()"
   ]
  },
  {
   "cell_type": "code",
   "execution_count": 19,
   "metadata": {},
   "outputs": [
    {
     "data": {
      "text/plain": [
       "Model(\n",
       "  (layer): Sequential(\n",
       "    (Linear-1): Linear(in_features=12, out_features=10, bias=True)\n",
       "    (BatchNorm1d-1): BatchNorm1d(10, eps=1e-05, momentum=0.1, affine=True, track_running_stats=True)\n",
       "    (Linear-2): Linear(in_features=10, out_features=10, bias=True)\n",
       "    (BatchNorm1d-2): BatchNorm1d(10, eps=1e-05, momentum=0.1, affine=True, track_running_stats=True)\n",
       "    (Linear-3): Linear(in_features=10, out_features=10, bias=True)\n",
       "    (BatchNorm1d-3): BatchNorm1d(10, eps=1e-05, momentum=0.1, affine=True, track_running_stats=True)\n",
       "    (Linear-4): Linear(in_features=10, out_features=10, bias=True)\n",
       "    (BatchNorm1d-4): BatchNorm1d(10, eps=1e-05, momentum=0.1, affine=True, track_running_stats=True)\n",
       "    (Linear-5): Linear(in_features=10, out_features=10, bias=True)\n",
       "    (BatchNorm1d-5): BatchNorm1d(10, eps=1e-05, momentum=0.1, affine=True, track_running_stats=True)\n",
       "    (Linear-6): Linear(in_features=10, out_features=10, bias=True)\n",
       "    (BatchNorm1d-6): BatchNorm1d(10, eps=1e-05, momentum=0.1, affine=True, track_running_stats=True)\n",
       "    (Linear-7): Linear(in_features=10, out_features=10, bias=True)\n",
       "    (BatchNorm1d-7): BatchNorm1d(10, eps=1e-05, momentum=0.1, affine=True, track_running_stats=True)\n",
       "    (Linear-8): Linear(in_features=10, out_features=10, bias=True)\n",
       "    (BatchNorm1d-8): BatchNorm1d(10, eps=1e-05, momentum=0.1, affine=True, track_running_stats=True)\n",
       "    (Linear-9): Linear(in_features=10, out_features=10, bias=True)\n",
       "    (BatchNorm1d-9): BatchNorm1d(10, eps=1e-05, momentum=0.1, affine=True, track_running_stats=True)\n",
       "    (Linear-10): Linear(in_features=10, out_features=10, bias=True)\n",
       "    (BatchNorm1d-10): BatchNorm1d(10, eps=1e-05, momentum=0.1, affine=True, track_running_stats=True)\n",
       "    (Linear-11): Linear(in_features=10, out_features=10, bias=True)\n",
       "    (BatchNorm1d-11): BatchNorm1d(10, eps=1e-05, momentum=0.1, affine=True, track_running_stats=True)\n",
       "    (Linear-12): Linear(in_features=10, out_features=3, bias=True)\n",
       "  )\n",
       ")"
      ]
     },
     "execution_count": 19,
     "metadata": {},
     "output_type": "execute_result"
    },
    {
     "name": "stdout",
     "output_type": "stream",
     "text": [
      "time: 16 ms\n"
     ]
    }
   ],
   "source": [
    "model"
   ]
  },
  {
   "cell_type": "code",
   "execution_count": 20,
   "metadata": {},
   "outputs": [
    {
     "name": "stdout",
     "output_type": "stream",
     "text": [
      "time: 31 ms\n"
     ]
    }
   ],
   "source": [
    "input_ = torch.randn(10,12)\n",
    "outupt = model(input_)"
   ]
  },
  {
   "cell_type": "code",
   "execution_count": 21,
   "metadata": {},
   "outputs": [
    {
     "data": {
      "text/plain": [
       "tensor([[ 0.3030,  0.0684,  0.0088],\n",
       "        [-0.7783,  0.3395, -0.3993],\n",
       "        [-0.1957,  0.2630, -0.4544],\n",
       "        [ 1.3816, -0.2868,  0.6722],\n",
       "        [-1.0311,  0.6345, -0.8778],\n",
       "        [-1.6237,  0.7222, -1.0283],\n",
       "        [-0.2541,  0.3039, -0.3331],\n",
       "        [-0.3585,  0.2606, -0.5201],\n",
       "        [-0.1615,  0.1695, -0.0398],\n",
       "        [ 0.1332,  0.0415,  0.0664]], grad_fn=<AddmmBackward>)"
      ]
     },
     "execution_count": 21,
     "metadata": {},
     "output_type": "execute_result"
    },
    {
     "name": "stdout",
     "output_type": "stream",
     "text": [
      "time: 16 ms\n"
     ]
    }
   ],
   "source": [
    "outupt"
   ]
  },
  {
   "cell_type": "code",
   "execution_count": null,
   "metadata": {},
   "outputs": [],
   "source": []
  }
 ],
 "metadata": {
  "kernelspec": {
   "display_name": "Python 3",
   "language": "python",
   "name": "python3"
  },
  "language_info": {
   "codemirror_mode": {
    "name": "ipython",
    "version": 3
   },
   "file_extension": ".py",
   "mimetype": "text/x-python",
   "name": "python",
   "nbconvert_exporter": "python",
   "pygments_lexer": "ipython3",
   "version": "3.8.5"
  }
 },
 "nbformat": 4,
 "nbformat_minor": 4
}
