{
 "cells": [
  {
   "cell_type": "code",
   "execution_count": 1,
   "metadata": {},
   "outputs": [
    {
     "name": "stdout",
     "output_type": "stream",
     "text": [
      "time: 0 ns\n"
     ]
    }
   ],
   "source": [
    "%load_ext autotime"
   ]
  },
  {
   "cell_type": "markdown",
   "metadata": {},
   "source": [
    "# 作業 : 調整 word2vec 模型的不同訓練參數"
   ]
  },
  {
   "cell_type": "markdown",
   "metadata": {},
   "source": [
    "# [作業目標]\n",
    "- 調整 word2vec 模型的不同參數, 分別觀察效果並比較"
   ]
  },
  {
   "cell_type": "markdown",
   "metadata": {},
   "source": [
    "# [作業重點]\n",
    "- 調整 word2vec 模型的不同訓練參數, 分別觀察效果並比較"
   ]
  },
  {
   "cell_type": "code",
   "execution_count": 2,
   "metadata": {},
   "outputs": [
    {
     "name": "stdout",
     "output_type": "stream",
     "text": [
      "time: 9.02 s\n"
     ]
    }
   ],
   "source": [
    "# 載入 gensim 與 word2vec 模型\n",
    "import gensim\n",
    "from gensim.models import word2vec\n",
    "\n",
    "# 忽略警告訊息\n",
    "import warnings\n",
    "warnings.filterwarnings(\"ignore\")"
   ]
  },
  {
   "cell_type": "markdown",
   "metadata": {},
   "source": [
    "# Word2Vec 訓練參數\n",
    "- size : 詞向量的維度\n",
    "- min_count : 最小次數，一個詞出現的次數若小於 min_count，則拋棄不參與訓練。\n",
    "- window : 訓練窗格大小，也就是一個詞在看上下文關係時，上下應該各看幾個字的意思。\n",
    "- 更多參數說明，請參閱官方文件\n",
    "https://radimrehurek.com/gensim/models/word2vec.html#gensim.models.word2vec.Text8Corpus"
   ]
  },
  {
   "cell_type": "code",
   "execution_count": 4,
   "metadata": {},
   "outputs": [
    {
     "name": "stdout",
     "output_type": "stream",
     "text": [
      "time: 1min 51s\n"
     ]
    }
   ],
   "source": [
    "# 使用 gensim 訓練 word2vec 詞向量\n",
    "sentences = word2vec.Text8Corpus('text8/text8')\n",
    "model = word2vec.Word2Vec(sentences, vector_size=10)\n",
    "#model = word2vec.Word2Vec(sentences, size=10, min_count=3, window=5)"
   ]
  },
  {
   "cell_type": "code",
   "execution_count": 8,
   "metadata": {},
   "outputs": [
    {
     "data": {
      "text/plain": [
       "[('angry', 0.9520991444587708),\n",
       " ('siblings', 0.9440501928329468),\n",
       " ('loved', 0.9181055426597595),\n",
       " ('sing', 0.9091521501541138),\n",
       " ('love', 0.9090228080749512),\n",
       " ('pregnant', 0.9088062644004822),\n",
       " ('husband', 0.9073648452758789),\n",
       " ('lover', 0.8968491554260254),\n",
       " ('angels', 0.892625629901886),\n",
       " ('wives', 0.8884221911430359)]"
      ]
     },
     "execution_count": 8,
     "metadata": {},
     "output_type": "execute_result"
    },
    {
     "name": "stdout",
     "output_type": "stream",
     "text": [
      "time: 110 ms\n"
     ]
    }
   ],
   "source": [
    "# 顯示最相近的字彙\n",
    "model.wv.most_similar(['woman'])"
   ]
  },
  {
   "cell_type": "code",
   "execution_count": 9,
   "metadata": {},
   "outputs": [
    {
     "data": {
      "text/plain": [
       "[('deposed', 0.9332315325737),\n",
       " ('assassinated', 0.9242541790008545),\n",
       " ('overthrown', 0.9161148071289062),\n",
       " ('succeeded', 0.9135980606079102),\n",
       " ('tsar', 0.9132673144340515)]"
      ]
     },
     "execution_count": 9,
     "metadata": {},
     "output_type": "execute_result"
    },
    {
     "name": "stdout",
     "output_type": "stream",
     "text": [
      "time: 0 ns\n"
     ]
    }
   ],
   "source": [
    "# 顯示最相近的字彙(附加反義詞)\n",
    "model.wv.most_similar(positive=['woman', 'king'], negative=['man'], topn=5)"
   ]
  },
  {
   "cell_type": "code",
   "execution_count": 10,
   "metadata": {},
   "outputs": [
    {
     "data": {
      "text/plain": [
       "'cereal'"
      ]
     },
     "execution_count": 10,
     "metadata": {},
     "output_type": "execute_result"
    },
    {
     "name": "stdout",
     "output_type": "stream",
     "text": [
      "time: 0 ns\n"
     ]
    }
   ],
   "source": [
    "# 挑選最不相同的字彙\n",
    "model.wv.doesnt_match(\"breakfast cereal dinner lunch\".split())"
   ]
  },
  {
   "cell_type": "code",
   "execution_count": 11,
   "metadata": {},
   "outputs": [
    {
     "data": {
      "text/plain": [
       "0.84892064"
      ]
     },
     "execution_count": 11,
     "metadata": {},
     "output_type": "execute_result"
    },
    {
     "name": "stdout",
     "output_type": "stream",
     "text": [
      "time: 0 ns\n"
     ]
    }
   ],
   "source": [
    "# 顯示字彙間的相似性\n",
    "model.wv.similarity('woman', 'man')"
   ]
  },
  {
   "cell_type": "code",
   "execution_count": 13,
   "metadata": {},
   "outputs": [
    {
     "data": {
      "text/plain": [
       "array([ 3.9322360e+00,  3.7166624e+00, -1.9950892e+00,  1.5642653e+00,\n",
       "        4.4583387e+00,  6.7203450e+00,  8.3897281e-01,  3.3177400e+00,\n",
       "       -3.2979194e-03,  3.8143006e-01], dtype=float32)"
      ]
     },
     "execution_count": 13,
     "metadata": {},
     "output_type": "execute_result"
    },
    {
     "name": "stdout",
     "output_type": "stream",
     "text": [
      "time: 0 ns\n"
     ]
    }
   ],
   "source": [
    "# 顯示字彙的詞向量\n",
    "model.wv['computer']"
   ]
  },
  {
   "cell_type": "code",
   "execution_count": null,
   "metadata": {},
   "outputs": [],
   "source": []
  }
 ],
 "metadata": {
  "kernelspec": {
   "display_name": "Python 3",
   "language": "python",
   "name": "python3"
  },
  "language_info": {
   "codemirror_mode": {
    "name": "ipython",
    "version": 3
   },
   "file_extension": ".py",
   "mimetype": "text/x-python",
   "name": "python",
   "nbconvert_exporter": "python",
   "pygments_lexer": "ipython3",
   "version": "3.8.5"
  }
 },
 "nbformat": 4,
 "nbformat_minor": 4
}
