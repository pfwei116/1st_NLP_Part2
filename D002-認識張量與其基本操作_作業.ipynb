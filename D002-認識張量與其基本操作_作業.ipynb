{
 "cells": [
  {
   "cell_type": "raw",
   "metadata": {},
   "source": [
    "### 作業目的: 更加熟習pytorch的tensor操作\n",
    "\n",
    "pytorch中有提供很多的API，讓使用者針對tensor進行各式各樣的操作，本次的作業希望讀者由pytorch的[官方網站](https://pytorch.org/docs/stable/torch.html)中選定四個針對tensor操作的API，對他的使用方法進行範例操作演練。"
   ]
  },
  {
   "cell_type": "code",
   "execution_count": 1,
   "metadata": {},
   "outputs": [
    {
     "name": "stdout",
     "output_type": "stream",
     "text": [
      "time: 0 ns\n"
     ]
    }
   ],
   "source": [
    "%load_ext autotime"
   ]
  },
  {
   "cell_type": "markdown",
   "metadata": {},
   "source": [
    "### 選定的API 函數\n",
    "\n",
    "**請寫下選定的API functions**\n",
    "\n",
    "ex:\n",
    "* torch.from_array() / tensor.numpy()\n",
    "* torch.unsqueeze() / torch.squeeze()\n",
    "* tensor.transpose() / tensor.permute()\n",
    "* torch.reshape() / tensor.view()"
   ]
  },
  {
   "cell_type": "code",
   "execution_count": 2,
   "metadata": {},
   "outputs": [
    {
     "name": "stdout",
     "output_type": "stream",
     "text": [
      "time: 4.3 s\n"
     ]
    }
   ],
   "source": [
    "# Import torch and other required modules\n",
    "import torch\n",
    "import numpy as np"
   ]
  },
  {
   "cell_type": "markdown",
   "metadata": {},
   "source": [
    "### 範例:\n",
    "### Function 1 - torch.from_array() / tensor.numpy()"
   ]
  },
  {
   "cell_type": "code",
   "execution_count": 3,
   "metadata": {},
   "outputs": [
    {
     "name": "stdout",
     "output_type": "stream",
     "text": [
      "a: <class 'numpy.ndarray'>, float64\n",
      "b: <class 'torch.Tensor'>, torch.float64\n",
      "c: <class 'torch.Tensor'>, torch.float64\n",
      "d: <class 'numpy.ndarray'>, float64\n",
      "time: 31 ms\n"
     ]
    }
   ],
   "source": [
    "# Example 1 - 將torch tensor與numpy ndarray互相轉換\n",
    "a = np.random.rand(1,2,3,3)\n",
    "print(f'a: {type(a)}, {a.dtype}')\n",
    "b = torch.from_numpy(a)\n",
    "print(f'b: {type(b)}, {b.dtype}')\n",
    "c = torch.tensor(a)\n",
    "print(f'c: {type(c)}, {c.dtype}')\n",
    "d = c.numpy()\n",
    "print(f'd: {type(d)}, {d.dtype}')"
   ]
  },
  {
   "cell_type": "code",
   "execution_count": 4,
   "metadata": {},
   "outputs": [
    {
     "name": "stdout",
     "output_type": "stream",
     "text": [
      "a: <class 'numpy.ndarray'>, int32\n",
      "b: <class 'torch.Tensor'>, torch.int32\n",
      "c: <class 'torch.Tensor'>, torch.int32\n",
      "d: <class 'numpy.ndarray'>, int32\n",
      "time: 0 ns\n"
     ]
    }
   ],
   "source": [
    "# Example 2 - 經過轉換後，torch tensor與numpy array依然有相近的資料型態\n",
    "a = np.random.randint(low=0, high=10, size=(2,2))\n",
    "print(f'a: {type(a)}, {a.dtype}')\n",
    "b = torch.from_numpy(a)\n",
    "print(f'b: {type(b)}, {b.dtype}')\n",
    "c = torch.tensor(a)\n",
    "print(f'c: {type(c)}, {c.dtype}')\n",
    "d = c.numpy()\n",
    "print(f'd: {type(d)}, {d.dtype}')"
   ]
  },
  {
   "cell_type": "markdown",
   "metadata": {},
   "source": [
    "### Function 2 - torch.unsqueeze() / torch.squeeze()"
   ]
  },
  {
   "cell_type": "code",
   "execution_count": 9,
   "metadata": {},
   "outputs": [
    {
     "name": "stdout",
     "output_type": "stream",
     "text": [
      "origin:\n",
      " [[[0.59619906 0.36348092]]\n",
      "\n",
      " [[0.7082841  0.97270847]]\n",
      "\n",
      " [[0.39038748 0.39780239]]]\n",
      "after squeeze:\n",
      " [[0.59619906 0.36348092]\n",
      " [0.7082841  0.97270847]\n",
      " [0.39038748 0.39780239]]\n",
      "time: 16 ms\n"
     ]
    }
   ],
   "source": [
    "# Example 1 - squeeze\n",
    "a = np.random.random((3,1,2))\n",
    "print('origin:\\n',a)\n",
    "a = np.squeeze(a)\n",
    "print('after squeeze:\\n',a)"
   ]
  },
  {
   "cell_type": "code",
   "execution_count": 5,
   "metadata": {},
   "outputs": [
    {
     "name": "stdout",
     "output_type": "stream",
     "text": [
      "origin:\n",
      " tensor([[[0.3401, 0.7762]],\n",
      "\n",
      "        [[0.8773, 0.8147]],\n",
      "\n",
      "        [[0.3330, 0.0041]]])\n",
      "after squeeze:\n",
      " tensor([[0.3401, 0.7762],\n",
      "        [0.8773, 0.8147],\n",
      "        [0.3330, 0.0041]])\n",
      "time: 47 ms\n"
     ]
    }
   ],
   "source": [
    "b = torch.rand((3,1,2))\n",
    "print('origin:\\n',b)\n",
    "b = torch.squeeze(b)\n",
    "print('after squeeze:\\n',b)"
   ]
  },
  {
   "cell_type": "code",
   "execution_count": 9,
   "metadata": {},
   "outputs": [
    {
     "name": "stdout",
     "output_type": "stream",
     "text": [
      "origin:\n",
      " [[0.1688794  0.36262593]]\n",
      "after squeeze:\n",
      " [[[0.1688794  0.36262593]]]\n",
      "time: 15 ms\n"
     ]
    }
   ],
   "source": [
    "# Example 2 - unseqeeze\n",
    "a = np.random.random((1,2))\n",
    "print('origin:\\n',a)\n",
    "a = np.expand_dims(a, axis=0)  # Numpy使用的是 expand_dims\n",
    "print('after squeeze:\\n',a)"
   ]
  },
  {
   "cell_type": "code",
   "execution_count": 10,
   "metadata": {},
   "outputs": [
    {
     "name": "stdout",
     "output_type": "stream",
     "text": [
      "origin:\n",
      " tensor([[0.3942, 0.5219]])\n",
      "after squeeze:\n",
      " tensor([[[0.3942, 0.5219]]])\n",
      "time: 16 ms\n"
     ]
    }
   ],
   "source": [
    "a = torch.rand((1,2))\n",
    "print('origin:\\n',a)\n",
    "a = torch.unsqueeze(a, 0)\n",
    "print('after squeeze:\\n',a)"
   ]
  },
  {
   "cell_type": "markdown",
   "metadata": {},
   "source": [
    "### Function 3 - your function to illustrate"
   ]
  },
  {
   "cell_type": "code",
   "execution_count": 21,
   "metadata": {},
   "outputs": [
    {
     "name": "stdout",
     "output_type": "stream",
     "text": [
      "origin:\n",
      " [[[0.81059334 0.36158848 0.15315895]\n",
      "  [0.12983558 0.2673569  0.68799659]]]\n",
      "after transpose/permute:\n",
      " [[[0.81059334]\n",
      "  [0.12983558]]\n",
      "\n",
      " [[0.36158848]\n",
      "  [0.2673569 ]]\n",
      "\n",
      " [[0.15315895]\n",
      "  [0.68799659]]]\n",
      "time: 15 ms\n"
     ]
    }
   ],
   "source": [
    "# Example 1 - numpy.transpose()\n",
    "a = np.random.random((1,2,3))\n",
    "print('origin:\\n',a)\n",
    "a = np.transpose(a, [2,1,0])\n",
    "print('after transpose/permute:\\n',a)"
   ]
  },
  {
   "cell_type": "code",
   "execution_count": 24,
   "metadata": {},
   "outputs": [
    {
     "name": "stdout",
     "output_type": "stream",
     "text": [
      "origin:\n",
      " tensor([[[0.2941, 0.8085, 0.2087],\n",
      "         [0.6425, 0.8145, 0.5728]]])\n"
     ]
    },
    {
     "ename": "TypeError",
     "evalue": "transpose() received an invalid combination of arguments - got (Tensor, tuple), but expected one of:\n * (Tensor input, name dim0, name dim1)\n * (Tensor input, int dim0, int dim1)\n",
     "output_type": "error",
     "traceback": [
      "\u001b[1;31m---------------------------------------------------------------------------\u001b[0m",
      "\u001b[1;31mTypeError\u001b[0m                                 Traceback (most recent call last)",
      "\u001b[1;32m<ipython-input-24-4b46d9a42898>\u001b[0m in \u001b[0;36m<module>\u001b[1;34m\u001b[0m\n\u001b[0;32m      2\u001b[0m \u001b[0ma\u001b[0m \u001b[1;33m=\u001b[0m \u001b[0mtorch\u001b[0m\u001b[1;33m.\u001b[0m\u001b[0mrand\u001b[0m\u001b[1;33m(\u001b[0m\u001b[1;33m(\u001b[0m\u001b[1;36m1\u001b[0m\u001b[1;33m,\u001b[0m\u001b[1;36m2\u001b[0m\u001b[1;33m,\u001b[0m\u001b[1;36m3\u001b[0m\u001b[1;33m)\u001b[0m\u001b[1;33m)\u001b[0m\u001b[1;33m\u001b[0m\u001b[1;33m\u001b[0m\u001b[0m\n\u001b[0;32m      3\u001b[0m \u001b[0mprint\u001b[0m\u001b[1;33m(\u001b[0m\u001b[1;34m'origin:\\n'\u001b[0m\u001b[1;33m,\u001b[0m\u001b[0ma\u001b[0m\u001b[1;33m)\u001b[0m\u001b[1;33m\u001b[0m\u001b[1;33m\u001b[0m\u001b[0m\n\u001b[1;32m----> 4\u001b[1;33m \u001b[0ma\u001b[0m \u001b[1;33m=\u001b[0m \u001b[0mtorch\u001b[0m\u001b[1;33m.\u001b[0m\u001b[0mtranspose\u001b[0m\u001b[1;33m(\u001b[0m\u001b[0ma\u001b[0m\u001b[1;33m,\u001b[0m \u001b[1;33m(\u001b[0m\u001b[1;36m2\u001b[0m\u001b[1;33m,\u001b[0m\u001b[1;36m1\u001b[0m\u001b[1;33m,\u001b[0m\u001b[1;36m0\u001b[0m\u001b[1;33m)\u001b[0m\u001b[1;33m)\u001b[0m\u001b[1;33m\u001b[0m\u001b[1;33m\u001b[0m\u001b[0m\n\u001b[0m\u001b[0;32m      5\u001b[0m \u001b[0mprint\u001b[0m\u001b[1;33m(\u001b[0m\u001b[1;34m'after transpose/permute:\\n'\u001b[0m\u001b[1;33m,\u001b[0m\u001b[0ma\u001b[0m\u001b[1;33m)\u001b[0m\u001b[1;33m\u001b[0m\u001b[1;33m\u001b[0m\u001b[0m\n",
      "\u001b[1;31mTypeError\u001b[0m: transpose() received an invalid combination of arguments - got (Tensor, tuple), but expected one of:\n * (Tensor input, name dim0, name dim1)\n * (Tensor input, int dim0, int dim1)\n"
     ]
    },
    {
     "name": "stdout",
     "output_type": "stream",
     "text": [
      "time: 16 ms\n"
     ]
    }
   ],
   "source": [
    "# Example 2 - tensor.permute()\n",
    "a = torch.rand((1,2,3))\n",
    "print('origin:\\n',a)\n",
    "a = torch.transpose(a, (2,1,0))  # torch.transpose 只能對調 2個欄\n",
    "print('after transpose/permute:\\n',a)\n",
    "a.permute()"
   ]
  },
  {
   "cell_type": "code",
   "execution_count": 25,
   "metadata": {},
   "outputs": [
    {
     "name": "stdout",
     "output_type": "stream",
     "text": [
      "origin:\n",
      " tensor([[[0.1191, 0.3220, 0.0942],\n",
      "         [0.9209, 0.1087, 0.2467]]])\n",
      "after transpose/permute:\n",
      " tensor([[[0.1191],\n",
      "         [0.9209]],\n",
      "\n",
      "        [[0.3220],\n",
      "         [0.1087]],\n",
      "\n",
      "        [[0.0942],\n",
      "         [0.2467]]])\n",
      "time: 31 ms\n"
     ]
    }
   ],
   "source": [
    "# Example 2 - tensor.permute()\n",
    "a = torch.rand((1,2,3))\n",
    "print('origin:\\n',a)\n",
    "a = a.permute(2,1,0)\n",
    "print('after transpose/permute:\\n',a)"
   ]
  },
  {
   "cell_type": "markdown",
   "metadata": {},
   "source": [
    "### Function 4 - your function to illustrate"
   ]
  },
  {
   "cell_type": "code",
   "execution_count": 28,
   "metadata": {},
   "outputs": [
    {
     "name": "stdout",
     "output_type": "stream",
     "text": [
      "origin:\n",
      " [[0.48840465 0.27992424 0.25826041 0.78375867 0.7249948  0.29847811]]\n",
      "after reshape:\n",
      " [[0.48840465]\n",
      " [0.27992424]\n",
      " [0.25826041]\n",
      " [0.78375867]\n",
      " [0.7249948 ]\n",
      " [0.29847811]]\n",
      "time: 0 ns\n"
     ]
    }
   ],
   "source": [
    "# Example 1 - numpy.reshape()\n",
    "a = np.random.random((1,6))\n",
    "print('origin:\\n',a)\n",
    "b= np.reshape(a, (-1,1))\n",
    "print('after reshape:\\n',b)"
   ]
  },
  {
   "cell_type": "code",
   "execution_count": 30,
   "metadata": {},
   "outputs": [
    {
     "name": "stdout",
     "output_type": "stream",
     "text": [
      "origin:\n",
      " tensor([[0.5255, 0.9482, 0.0315, 0.4613, 0.8423, 0.1484]])\n",
      "after reshape:\n",
      " tensor([[0.5255],\n",
      "        [0.9482],\n",
      "        [0.0315],\n",
      "        [0.4613],\n",
      "        [0.8423],\n",
      "        [0.1484]])\n",
      "time: 16 ms\n"
     ]
    }
   ],
   "source": [
    "# Example 2 - tensor.reshape()\n",
    "a = torch.rand((1,6))\n",
    "print('origin:\\n',a)\n",
    "b = torch.reshape(a, (-1,1))\n",
    "print('after reshape:\\n',b)"
   ]
  },
  {
   "cell_type": "code",
   "execution_count": null,
   "metadata": {},
   "outputs": [],
   "source": []
  }
 ],
 "metadata": {
  "kernelspec": {
   "display_name": "Python 3",
   "language": "python",
   "name": "python3"
  },
  "language_info": {
   "codemirror_mode": {
    "name": "ipython",
    "version": 3
   },
   "file_extension": ".py",
   "mimetype": "text/x-python",
   "name": "python",
   "nbconvert_exporter": "python",
   "pygments_lexer": "ipython3",
   "version": "3.8.5"
  }
 },
 "nbformat": 4,
 "nbformat_minor": 4
}
